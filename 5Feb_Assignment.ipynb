{
 "cells": [
  {
   "cell_type": "markdown",
   "id": "c0749d54-a1f0-43fd-a182-8ce49c60a5dc",
   "metadata": {},
   "source": [
    "Que 1)Ans=>\n",
    "\n",
    "Classes and objects are the fundamental concepts of object-oriented programming (OOP).\n",
    "\n",
    "A Class is a blueprint or a template for creating objects. It defines a set of attributes and methods that an object of that class will have. Classes are essentially a way of organizing and structuring code to model real-world entities in a programmatic way.\n",
    "\n",
    "An Object is an instance of a class. It has its own values for the attributes defined in the class and can access and execute the methods defined in the class. Each object is unique and operates independently of other objects.\n",
    "\n",
    "Example: Consider a class called \"Car\" which has attributes such as \"model\", \"color\", \"year\" and methods such as \"start\", \"stop\" and \"accelerate\". An object of this class could be a specific car, such as a \"Toyota Corolla, red, 2020\". It would have its own values for the attributes and could execute the methods. Another object could be a \"Honda Civic, blue, 2021\". Both are instances of the \"Car\" class and have the same attributes and methods, but different attribute values."
   ]
  },
  {
   "cell_type": "markdown",
   "id": "3dc095ac-9d10-43c4-bbb1-c48b7ca69157",
   "metadata": {},
   "source": [
    "Que 2)Ans=>\n",
    "\n",
    "The four pillars of object-oriented programming (OOP) are:\n",
    "\n",
    "Abstraction: The ability to focus on essential features and ignore the details. This allows the user to interact with objects at a high level of abstraction, without needing to know the implementation details.\n",
    "\n",
    "Encapsulation: The idea of wrapping data and methods that operate on that data within a single unit or object. This is also known as data hiding and helps in reducing coupling between objects.\n",
    "\n",
    "Inheritance: The mechanism of acquiring properties and behaviors from a parent or base class to a child or derived class. This allows for creating new classes that reuse, extend or modify the attributes and behaviors of existing classes.\n",
    "\n",
    "Polymorphism: The ability of objects to take on multiple forms. This can be achieved through method overloading, method overriding, and operator overloading. This allows objects to be treated as objects of their class, as well as objects of its parent classes, making the code more flexible and adaptable."
   ]
  },
  {
   "cell_type": "markdown",
   "id": "f3bffa0f-afdb-481d-a5f2-e224f377d3b1",
   "metadata": {},
   "source": [
    "Que 3)Ans=>\n",
    "\n",
    "The __init__ function is used in Python as a constructor for classes. It is automatically called when an object of the class is created, and it is used to initialize the attributes of the class.\n",
    "\n",
    "The __init__ method takes the first argument as \"self\", which refers to the object being created. Additional arguments can be added to the method to initialize other attributes of the object.\n",
    "\n",
    "Here's an example of using the __init__ function:"
   ]
  },
  {
   "cell_type": "code",
   "execution_count": 1,
   "id": "1b2ef0b9-13ef-44ea-8881-e9b0bbaa4e15",
   "metadata": {},
   "outputs": [
    {
     "name": "stdout",
     "output_type": "stream",
     "text": [
      "Model: Toyota Corolla\n",
      "Color: Red\n",
      "Year: 2020\n",
      "Starting the Toyota Corolla\n"
     ]
    }
   ],
   "source": [
    "class Car:\n",
    "    def __init__(self, model, color, year):\n",
    "        self.model = model\n",
    "        self.color = color\n",
    "        self.year = year\n",
    "        \n",
    "    def start(self):\n",
    "        print(f\"Starting the {self.model}\")\n",
    "\n",
    "# Creating an object of the Car class\n",
    "my_car = Car(\"Toyota Corolla\", \"Red\", 2020)\n",
    "\n",
    "# Accessing the attributes of the object\n",
    "print(f\"Model: {my_car.model}\")\n",
    "print(f\"Color: {my_car.color}\")\n",
    "print(f\"Year: {my_car.year}\")\n",
    "\n",
    "# Calling the method of the object\n",
    "my_car.start()\n"
   ]
  },
  {
   "cell_type": "markdown",
   "id": "9b756ef5-c920-4121-b97e-533b7351917e",
   "metadata": {},
   "source": [
    "Que 4)Ans=>\n",
    "\n",
    "In object-oriented programming (OOP), self is used as a reference to the instance of an object. When a method is called on an object, the object instance is automatically passed as the first argument to the method. The convention is to use self as the name for this first argument.\n",
    "\n",
    "Using self within a class method allows you to access and modify the attributes and behaviors of the object. Without self, it would not be possible to access the object's properties within the method, as the method would have no reference to the object it is operating on"
   ]
  },
  {
   "cell_type": "markdown",
   "id": "d1ca9525-b028-4eb2-a668-49306496e68b",
   "metadata": {},
   "source": [
    "Que 5)Ans=>\n",
    "\n",
    "Inheritance is a mechanism in object-oriented programming (OOP) that allows you to create a new class based on an existing class, inheriting its attributes and behaviors. The new class is called the derived or child class, while the existing class is the base or parent class.\n",
    "\n",
    "There are several types of inheritance in OOP, including:\n",
    "\n",
    "Single inheritance: A derived class inherits from a single base class. The derived class adds additional attributes and methods, while also being able to use the attributes and methods of the base class.\n",
    "\n",
    "Multi-level inheritance: A derived class inherits from a base class, which in turn inherits from another base class. The derived class inherits the attributes and behaviors of all its base classes.\n",
    "\n",
    "Multiple inheritance: A derived class inherits from multiple base classes. The derived class can use the attributes and behaviors of all its base classes.\n"
   ]
  },
  {
   "cell_type": "code",
   "execution_count": null,
   "id": "0d29c297-531a-4745-bfb5-e3a664af785d",
   "metadata": {},
   "outputs": [],
   "source": []
  }
 ],
 "metadata": {
  "kernelspec": {
   "display_name": "Python 3 (ipykernel)",
   "language": "python",
   "name": "python3"
  },
  "language_info": {
   "codemirror_mode": {
    "name": "ipython",
    "version": 3
   },
   "file_extension": ".py",
   "mimetype": "text/x-python",
   "name": "python",
   "nbconvert_exporter": "python",
   "pygments_lexer": "ipython3",
   "version": "3.10.8"
  }
 },
 "nbformat": 4,
 "nbformat_minor": 5
}
